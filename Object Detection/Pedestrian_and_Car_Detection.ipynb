{
  "nbformat": 4,
  "nbformat_minor": 0,
  "metadata": {
    "colab": {
      "provenance": [],
      "authorship_tag": "ABX9TyNpgu8jNj8qpUIfi2WNYha5",
      "include_colab_link": true
    },
    "kernelspec": {
      "name": "python3",
      "display_name": "Python 3"
    },
    "language_info": {
      "name": "python"
    }
  },
  "cells": [
    {
      "cell_type": "markdown",
      "metadata": {
        "id": "view-in-github",
        "colab_type": "text"
      },
      "source": [
        "<a href=\"https://colab.research.google.com/github/VarnikaKamra/ComputerVisionWorld/blob/main/Object%20Detection/Pedestrian_and_Car_Detection.ipynb\" target=\"_parent\"><img src=\"https://colab.research.google.com/assets/colab-badge.svg\" alt=\"Open In Colab\"/></a>"
      ]
    },
    {
      "cell_type": "markdown",
      "source": [
        "**Pedestrian Detection**"
      ],
      "metadata": {
        "id": "4PFoyMV3gD3W"
      }
    },
    {
      "cell_type": "code",
      "execution_count": null,
      "metadata": {
        "id": "RHC3xBdffffA"
      },
      "outputs": [],
      "source": [
        "import cv2\n",
        "import numpy as np\n",
        "from google.colab.patches import cv2_imshow\n",
        "\n",
        "\n",
        "\n",
        "full_body = cv2.CascadeClassifier('/content/haarcascade_fullbody.xml')\n",
        "\n",
        "cap = cv2.VideoCapture('/content/walking.avi')\n",
        "\n",
        "#Loop once video is successully loaded\n",
        "while cap.isOpened():\n",
        "\n",
        "  ret,frame = cap.read() #Read the frames\n",
        "\n",
        "  gray = cv2.cvtColor(frame,cv2.COLOR_BGR2GRAY)\n",
        "  #Pass frames to ou body classifier\n",
        "  bodies = full_body.detectMultiScale(gray,1.2,3)\n",
        "\n",
        "  for (x,y,w,h) in bodies:\n",
        "    cv2.rectangle(frame,(x,y),(x+w,y+h),(0,255,255),2)\n",
        "    cv2_imshow(frame)\n",
        "    cv2.waitKey(1) ==13 #13 is the Enter key\n",
        "    break\n",
        "\n",
        "cv2.destroyAllWindows()"
      ]
    },
    {
      "cell_type": "markdown",
      "source": [
        "**Car Detection**"
      ],
      "metadata": {
        "id": "p54aKUCBggEH"
      }
    },
    {
      "cell_type": "code",
      "source": [
        "import cv2\n",
        "import numpy as np\n",
        "import time\n",
        "from google.colab.patches import cv2_imshow\n",
        "\n",
        "\n",
        "car_classifier = cv2.CascadeClassifier('/content/haarcascade_car.xml')\n",
        "\n",
        "cap = cv2.VideoCapture('/content/cars.avi')\n",
        "\n",
        "while cap.isOpened():\n",
        "  time.sleep(0.05)\n",
        "\n",
        "  ret,frame = cap.read()\n",
        "  gray = cv2.cvtColor(frame,cv2.COLOR_BGR2GRAY)\n",
        "\n",
        "  cars = car_classifier.detectMultiScale(gray,1.4,2)\n",
        "  for (x,y,w,h) in cars:\n",
        "    cv2.rectangle(frame,(x,y),(x+w,y+h),(0,255,255),2)\n",
        "    cv2_imshow(frame)\n",
        "    cv2.waitKey(1) ==13 #13 is the Enter key\n",
        "    break\n",
        "\n",
        "cv2.destroyAllWindows()"
      ],
      "metadata": {
        "id": "QXQ4NMB8gaqR"
      },
      "execution_count": null,
      "outputs": []
    },
    {
      "cell_type": "code",
      "source": [],
      "metadata": {
        "id": "oRL40aC4glEk"
      },
      "execution_count": null,
      "outputs": []
    }
  ]
}